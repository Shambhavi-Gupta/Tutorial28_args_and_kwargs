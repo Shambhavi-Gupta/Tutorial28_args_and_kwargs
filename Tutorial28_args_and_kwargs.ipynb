{
  "nbformat": 4,
  "nbformat_minor": 0,
  "metadata": {
    "colab": {
      "name": "Tutorial28_args_and_kwargs.ipynb",
      "provenance": [],
      "authorship_tag": "ABX9TyPJ80jeqm9VLOY5MwisQXlk",
      "include_colab_link": true
    },
    "kernelspec": {
      "name": "python3",
      "display_name": "Python 3"
    }
  },
  "cells": [
    {
      "cell_type": "markdown",
      "metadata": {
        "id": "view-in-github",
        "colab_type": "text"
      },
      "source": [
        "<a href=\"https://colab.research.google.com/github/Shambhavi-Gupta/Tutorial28_args_and_kwargs/blob/main/Tutorial28_args_and_kwargs.ipynb\" target=\"_parent\"><img src=\"https://colab.research.google.com/assets/colab-badge.svg\" alt=\"Open In Colab\"/></a>"
      ]
    },
    {
      "cell_type": "code",
      "metadata": {
        "id": "8b3hFBwD8sIM"
      },
      "source": [
        "#def students_marks(a,b,c,d,e):\r\n",
        " #   print(a,b,c,d,e)\r\n",
        "#\r\n",
        "#students_marks(\"shambhavi\",\"rita\",\"sita\",\"meera\",\"riya\")\r\n",
        "\r\n",
        "\r\n",
        "\r\n",
        "\r\n",
        "def function_args(students,*args,**kwargs): #students, *args, **kwargs\r\n",
        "    print(type(args))\r\n",
        "    print(args[4])\r\n",
        "    print(students)\r\n",
        "    for item in args:\r\n",
        "        print(item)\r\n",
        "    print(\"Let's meet \")\r\n",
        "    for key, value in kwargs.items():\r\n",
        "        print(f\"{key} is {value}\")\r\n",
        "\r\n",
        "name = [\"shambhavi\",\"rita\",\"sita\",\"meera\",\"riya\"]\r\n",
        "students = \"All are the students\"\r\n",
        "kw = {\"shambhavi\":\"teacher\",\"rita\":\"best student\",\"sita\":\"best player\",\"meera\":\"best classmate\"}\r\n",
        "function_args(students,*name,**kw)\r\n"
      ],
      "execution_count": null,
      "outputs": []
    }
  ]
}